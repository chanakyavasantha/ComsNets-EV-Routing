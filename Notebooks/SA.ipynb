{
 "cells": [
  {
   "cell_type": "markdown",
   "metadata": {},
   "source": [
    "#### Section 1: Importing Necessary Libraries"
   ]
  },
  {
   "cell_type": "code",
   "execution_count": 1,
   "metadata": {},
   "outputs": [],
   "source": [
    "### Basic Imports\n",
    "import numpy as np\n",
    "import pandas as pd\n",
    "import random\n",
    "import toml\n",
    "import os\n",
    "import logging\n",
    "import math\n",
    "import json\n",
    "from datetime import datetime\n",
    "import seaborn as sns\n",
    "### Matplot Lib Imports\n",
    "import matplotlib.pyplot as plt\n",
    "from matplotlib.colors import LinearSegmentedColormap\n",
    "\n",
    "### Parallel Processing Libraries\n",
    "from functools import partial\n",
    "import time\n",
    "from concurrent.futures import ProcessPoolExecutor, as_completed,ThreadPoolExecutor\n",
    "from multiprocessing import Pool, cpu_count\n",
    "from tqdm import tqdm\n",
    "import concurrent.futures\n",
    "\n",
    "### Scipy Imports\n",
    "from scipy.spatial import distance\n",
    "from shapely.geometry import Point, MultiPoint\n",
    "from shapely.ops import cascaded_union\n",
    "from scipy.spatial import distance\n",
    "from sklearn.cluster import KMeans\n",
    "import numpy as np\n",
    "from scipy.spatial.distance import pdist, squareform\n",
    "from scipy.spatial.distance import cdist\n",
    "### Other Imports\n",
    "import warnings\n",
    "from copy import deepcopy\n",
    "from dataclasses import dataclass, field\n",
    "from typing import List, Dict, Tuple, Any\n",
    "from abc import ABC, abstractmethod\n",
    "from matplotlib.colors import LinearSegmentedColormap\n"
   ]
  },
  {
   "cell_type": "markdown",
   "metadata": {},
   "source": [
    "#### Section 1.1: Basic Utility Functions"
   ]
  },
  {
   "cell_type": "code",
   "execution_count": 2,
   "metadata": {},
   "outputs": [],
   "source": [
    "def euclidean_distance(point1, point2):\n",
    "    return np.sqrt(np.sum((np.array(point1) - np.array(point2)) ** 2))\n",
    "\n",
    "def create_distance_matrix(locations):\n",
    "    n = len(locations)\n",
    "    matrix = np.zeros((n, n))\n",
    "    for i in range(n):\n",
    "        for j in range(n):\n",
    "            matrix[i][j] = euclidean_distance(locations[i], locations[j])\n",
    "    return matrix\n",
    "\n",
    "def create_charging_distance_matrix(locations, charging_stations):\n",
    "    matrix = np.zeros((len(locations), len(charging_stations)))\n",
    "    for i, loc in enumerate(locations):\n",
    "        for j, station in enumerate(charging_stations):\n",
    "            matrix[i][j] = euclidean_distance(loc, station)\n",
    "    return matrix"
   ]
  },
  {
   "cell_type": "code",
   "execution_count": 3,
   "metadata": {},
   "outputs": [],
   "source": [
    "class EVRPSolution:\n",
    "    def __init__(self):\n",
    "        self.routes = []\n",
    "        self.vehicle_types = []\n",
    "        self.route_loads = []\n",
    "        self.route_distances = []\n",
    "        self.route_energies = []\n",
    "        self.delivery_times = []\n",
    "        self.computation_time = 0.0\n",
    "\n",
    "    def add_route(self, route, vehicle_type, load):\n",
    "        self.routes.append(route)\n",
    "        self.vehicle_types.append(vehicle_type)\n",
    "        self.route_loads.append(load)"
   ]
  },
  {
   "cell_type": "code",
   "execution_count": 4,
   "metadata": {},
   "outputs": [],
   "source": [
    "class EVConfig:\n",
    "    def __init__(self):\n",
    "        self.categories = {\n",
    "            'small': {\n",
    "                'battery_capacity': 35,\n",
    "                'base_weight': 1500,\n",
    "                'load_capacity': 500\n",
    "            },\n",
    "            'medium': {\n",
    "                'battery_capacity': 40,\n",
    "                'base_weight': 1800,\n",
    "                'load_capacity': 600\n",
    "            },\n",
    "            'large': {\n",
    "                'battery_capacity': 45,\n",
    "                'base_weight': 2000,\n",
    "                'load_capacity': 700\n",
    "            },\n",
    "            'xlarge': {\n",
    "                'battery_capacity': 50,\n",
    "                'base_weight': 2200,\n",
    "                'load_capacity': 800\n",
    "            }\n",
    "        }\n",
    "        self.initial_charging = 100\n",
    "        self.speed = 25\n",
    "        self.energy_consumption_rate = 0.15\n",
    "        self.weight_factor = 0.05\n",
    "        self.battery_safety_margin = 40"
   ]
  },
  {
   "cell_type": "code",
   "execution_count": 5,
   "metadata": {},
   "outputs": [],
   "source": [
    "class EVRPInstance:\n",
    "    def __init__(self, instance_id, depot_location, customer_locations, \n",
    "                 charging_stations, customer_items_weights, charging_rate):\n",
    "        self.instance_id = instance_id\n",
    "        self.depot_location = depot_location\n",
    "        self.customer_locations = customer_locations\n",
    "        self.charging_stations = charging_stations\n",
    "        self.customer_items_weights = customer_items_weights\n",
    "        self.charging_rate = charging_rate\n",
    "        \n",
    "        # Create distance matrices\n",
    "        self.distance_matrix = self._create_distance_matrix()\n",
    "        self.charging_distance_matrix = self._create_charging_distance_matrix()\n",
    "\n",
    "    def _create_distance_matrix(self):\n",
    "        locations = [self.depot_location] + self.customer_locations\n",
    "        return create_distance_matrix(locations)\n",
    "\n",
    "    def _create_charging_distance_matrix(self):\n",
    "        locations = [self.depot_location] + self.customer_locations\n",
    "        return create_charging_distance_matrix(locations, self.charging_stations)"
   ]
  },
  {
   "cell_type": "code",
   "execution_count": 6,
   "metadata": {},
   "outputs": [],
   "source": [
    "class SAEVRPSolver:\n",
    "    pass"
   ]
  },
  {
   "cell_type": "code",
   "execution_count": null,
   "metadata": {},
   "outputs": [],
   "source": []
  },
  {
   "cell_type": "code",
   "execution_count": null,
   "metadata": {},
   "outputs": [],
   "source": []
  },
  {
   "cell_type": "code",
   "execution_count": null,
   "metadata": {},
   "outputs": [],
   "source": []
  },
  {
   "cell_type": "code",
   "execution_count": null,
   "metadata": {},
   "outputs": [],
   "source": []
  },
  {
   "cell_type": "code",
   "execution_count": null,
   "metadata": {},
   "outputs": [],
   "source": []
  },
  {
   "cell_type": "code",
   "execution_count": null,
   "metadata": {},
   "outputs": [],
   "source": []
  }
 ],
 "metadata": {
  "kernelspec": {
   "display_name": "venv",
   "language": "python",
   "name": "python3"
  },
  "language_info": {
   "codemirror_mode": {
    "name": "ipython",
    "version": 3
   },
   "file_extension": ".py",
   "mimetype": "text/x-python",
   "name": "python",
   "nbconvert_exporter": "python",
   "pygments_lexer": "ipython3",
   "version": "3.12.6"
  },
  "orig_nbformat": 4
 },
 "nbformat": 4,
 "nbformat_minor": 2
}
